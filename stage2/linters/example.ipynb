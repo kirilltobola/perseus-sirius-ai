{
 "cells": [
  {
   "cell_type": "markdown",
   "id": "efb38ea6-1e34-4c3f-9eaa-29d321524839",
   "metadata": {},
   "source": [
    "# Установка линтера flake8"
   ]
  },
  {
   "cell_type": "code",
   "execution_count": 1,
   "id": "4244a0f2-4e6c-4b1c-83dc-899e53afb044",
   "metadata": {},
   "outputs": [
    {
     "name": "stdout",
     "output_type": "stream",
     "text": [
      "Note: you may need to restart the kernel to use updated packages.\n"
     ]
    }
   ],
   "source": [
    "%pip install flake8 --quiet"
   ]
  },
  {
   "cell_type": "markdown",
   "id": "2705b39b-72e1-40d6-8523-4bd1cf555360",
   "metadata": {},
   "source": [
    "# Проверка файлов на PEP8 с помощью линтера"
   ]
  },
  {
   "cell_type": "code",
   "execution_count": 2,
   "id": "21ed2832-9f20-4777-ae1b-d6f938dfa27d",
   "metadata": {},
   "outputs": [
    {
     "name": "stdout",
     "output_type": "stream",
     "text": [
      "\u001b[1mbad_example.py\u001b[m\u001b[36m:\u001b[m2\u001b[36m:\u001b[m1\u001b[36m:\u001b[m \u001b[1m\u001b[31mF401\u001b[m 'os' imported but unused\n",
      "\u001b[1mbad_example.py\u001b[m\u001b[36m:\u001b[m2\u001b[36m:\u001b[m1\u001b[36m:\u001b[m \u001b[1m\u001b[31mF401\u001b[m 'sys' imported but unused\n",
      "\u001b[1mbad_example.py\u001b[m\u001b[36m:\u001b[m2\u001b[36m:\u001b[m10\u001b[36m:\u001b[m \u001b[1m\u001b[31mE401\u001b[m multiple imports on one line\n",
      "\u001b[1mbad_example.py\u001b[m\u001b[36m:\u001b[m3\u001b[36m:\u001b[m1\u001b[36m:\u001b[m \u001b[1m\u001b[31mF401\u001b[m 'logging' imported but unused\n",
      "\u001b[1mbad_example.py\u001b[m\u001b[36m:\u001b[m4\u001b[36m:\u001b[m1\u001b[36m:\u001b[m \u001b[1m\u001b[31mF401\u001b[m '..views' imported but unused\n",
      "\u001b[1mbad_example.py\u001b[m\u001b[36m:\u001b[m6\u001b[36m:\u001b[m1\u001b[36m:\u001b[m \u001b[1m\u001b[31mE302\u001b[m expected 2 blank lines, found 1\n",
      "\u001b[1mbad_example.py\u001b[m\u001b[36m:\u001b[m6\u001b[36m:\u001b[m19\u001b[36m:\u001b[m \u001b[1m\u001b[31mF821\u001b[m undefined name 'SomeCommand'\n",
      "\u001b[1mbad_example.py\u001b[m\u001b[36m:\u001b[m6\u001b[36m:\u001b[m31\u001b[36m:\u001b[m \u001b[1m\u001b[31mE203\u001b[m whitespace before ':'\n",
      "\u001b[1mbad_example.py\u001b[m\u001b[36m:\u001b[m9\u001b[36m:\u001b[m25\u001b[36m:\u001b[m \u001b[1m\u001b[31mE231\u001b[m missing whitespace after ','\n",
      "\u001b[1mbad_example.py\u001b[m\u001b[36m:\u001b[m16\u001b[36m:\u001b[m21\u001b[36m:\u001b[m \u001b[1m\u001b[31mE701\u001b[m multiple statements on one line (colon)\n",
      "\u001b[1mbad_example.py\u001b[m\u001b[36m:\u001b[m17\u001b[36m:\u001b[m13\u001b[36m:\u001b[m \u001b[1m\u001b[31mE271\u001b[m multiple spaces after keyword\n",
      "\u001b[1mbad_example.py\u001b[m\u001b[36m:\u001b[m17\u001b[36m:\u001b[m14\u001b[36m:\u001b[m \u001b[1m\u001b[31mE203\u001b[m whitespace before ':'\n",
      "\u001b[1mbad_example.py\u001b[m\u001b[36m:\u001b[m17\u001b[36m:\u001b[m15\u001b[36m:\u001b[m \u001b[1m\u001b[31mE701\u001b[m multiple statements on one line (colon)\n",
      "\u001b[1mbad_example.py\u001b[m\u001b[36m:\u001b[m17\u001b[36m:\u001b[m29\u001b[36m:\u001b[m \u001b[1m\u001b[31mW292\u001b[m no newline at end of file\n"
     ]
    }
   ],
   "source": [
    "!flake8 bad_example.py"
   ]
  },
  {
   "cell_type": "markdown",
   "id": "e6ed9d4c-224b-4b58-ae11-a7e187bc024a",
   "metadata": {},
   "source": [
    "Линтер указывает строчки кода, в которых содержаться нарушения стандарта PEP8"
   ]
  },
  {
   "cell_type": "code",
   "execution_count": 3,
   "id": "2fd570e6-9ce2-4b2d-b3c0-2254d0297b5b",
   "metadata": {},
   "outputs": [],
   "source": [
    "!flake8 good_example.py"
   ]
  },
  {
   "cell_type": "markdown",
   "id": "83b4746b-d5ad-4a2b-85b3-78ac7a4e4fba",
   "metadata": {},
   "source": [
    "В данном случае вывод пуст, так как PEP8 соблюдается"
   ]
  },
  {
   "cell_type": "markdown",
   "id": "78798128-28e8-4ef3-935d-e33372291928",
   "metadata": {},
   "source": [
    "# Настройка в IDE\n",
    "\n",
    "flake8 и другие линтеры можно настроить в IDE, например:\n",
    "- https://marketplace.visualstudio.com/items?itemName=ms-python.flake8\n",
    "- https://habr.com/ru/companies/dataart/articles/318776/"
   ]
  }
 ],
 "metadata": {
  "kernelspec": {
   "display_name": "Python 3 (ipykernel)",
   "language": "python",
   "name": "python3"
  },
  "language_info": {
   "codemirror_mode": {
    "name": "ipython",
    "version": 3
   },
   "file_extension": ".py",
   "mimetype": "text/x-python",
   "name": "python",
   "nbconvert_exporter": "python",
   "pygments_lexer": "ipython3",
   "version": "3.12.3"
  }
 },
 "nbformat": 4,
 "nbformat_minor": 5
}
