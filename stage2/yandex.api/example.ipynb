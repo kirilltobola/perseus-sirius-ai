{
 "cells": [
  {
   "cell_type": "markdown",
   "id": "c91b878a-6fb4-40d2-9bbb-e40f9e348a87",
   "metadata": {},
   "source": [
    "# Получение ссылки на скачивание"
   ]
  },
  {
   "cell_type": "code",
   "execution_count": null,
   "id": "3b25390a-c760-4e49-a2a3-ff94d699a4f7",
   "metadata": {},
   "outputs": [],
   "source": [
    "import requests\n",
    "\n",
    "oauth_token = \"\" # Вставтье свой токен\n",
    "file_path = \"\" # Путь до файла\n",
    "\n",
    "response = requests.get(\n",
    "    f\"https://cloud-api.yandex.net/v1/disk/resources/download?path={file_path}\", \n",
    "    headers={'Authorization': f'OAuth {oauth_token}'}\n",
    ")\n",
    "download_link = response.json()['href']\n",
    "\n",
    "download_link"
   ]
  },
  {
   "cell_type": "markdown",
   "id": "e2a70083-0b83-4ffa-9861-89dd13fc50fa",
   "metadata": {},
   "source": [
    "# Скачивание видео и сохранение в текущую директорию"
   ]
  },
  {
   "cell_type": "code",
   "execution_count": null,
   "id": "ce8cd0f6-188b-44d5-a57a-891972b7b3e7",
   "metadata": {},
   "outputs": [],
   "source": [
    "video = requests.get(download_link, allow_redirects=True)\n",
    "open('video.mp4', 'wb').write(r.content)"
   ]
  }
 ],
 "metadata": {
  "kernelspec": {
   "display_name": "Python 3 (ipykernel)",
   "language": "python",
   "name": "python3"
  },
  "language_info": {
   "codemirror_mode": {
    "name": "ipython",
    "version": 3
   },
   "file_extension": ".py",
   "mimetype": "text/x-python",
   "name": "python",
   "nbconvert_exporter": "python",
   "pygments_lexer": "ipython3",
   "version": "3.12.3"
  }
 },
 "nbformat": 4,
 "nbformat_minor": 5
}
