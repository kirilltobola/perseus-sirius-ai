{
 "cells": [
  {
   "cell_type": "markdown",
   "id": "c91b878a-6fb4-40d2-9bbb-e40f9e348a87",
   "metadata": {},
   "source": [
    "# Получение ссылки на скачивание"
   ]
  },
  {
   "cell_type": "code",
   "execution_count": 10,
   "id": "3b25390a-c760-4e49-a2a3-ff94d699a4f7",
   "metadata": {},
   "outputs": [
    {
     "data": {
      "text/plain": [
       "'https://downloader.disk.yandex.ru/disk/2b9508f49fef2028f9d96dc0d40847325f12a697f9ae38792ce08690e5db0a2e/6720e569/4_-PuhSf0YVAKRKO4cz3_Mf5i6_ZFSSD33vjFDOD-t5BcZi6bu7ZCjuDTvRntCXtVThBbWfL9zK_3jU_Sv5EAg%3D%3D?uid=767030990&filename=2019-06-27%2021-44-28.MP4&disposition=attachment&hash=&limit=0&content_type=video%2Fmp4&owner_uid=767030990&fsize=40224329&hid=8c42fa1f1aa02224b9f81407d9e7d7aa&media_type=video&tknv=v2&etag=f35b9bdc85fb237aaad640936c24a8bd'"
      ]
     },
     "execution_count": 10,
     "metadata": {},
     "output_type": "execute_result"
    }
   ],
   "source": [
    "import requests\n",
    "\n",
    "oauth_token = \"\" # Вставтье свой токен\n",
    "file_path = \"\" # Путь до файла\n",
    "\n",
    "response = requests.get(\n",
    "    f\"https://cloud-api.yandex.net/v1/disk/resources/download?path={file_path}\", \n",
    "    headers={'Authorization': f'OAuth {oauth_token}'}\n",
    ")\n",
    "download_link = response.json()['href']\n",
    "\n",
    "download_link"
   ]
  },
  {
   "cell_type": "markdown",
   "id": "e2a70083-0b83-4ffa-9861-89dd13fc50fa",
   "metadata": {},
   "source": [
    "# Скачивание видео и сохранение в текущую директорию"
   ]
  },
  {
   "cell_type": "code",
   "execution_count": 11,
   "id": "ce8cd0f6-188b-44d5-a57a-891972b7b3e7",
   "metadata": {},
   "outputs": [
    {
     "data": {
      "text/plain": [
       "40224329"
      ]
     },
     "execution_count": 11,
     "metadata": {},
     "output_type": "execute_result"
    }
   ],
   "source": [
    "video = requests.get(download_link, allow_redirects=True)\n",
    "open('video.mp4', 'wb').write(r.content)"
   ]
  }
 ],
 "metadata": {
  "kernelspec": {
   "display_name": "Python 3 (ipykernel)",
   "language": "python",
   "name": "python3"
  },
  "language_info": {
   "codemirror_mode": {
    "name": "ipython",
    "version": 3
   },
   "file_extension": ".py",
   "mimetype": "text/x-python",
   "name": "python",
   "nbconvert_exporter": "python",
   "pygments_lexer": "ipython3",
   "version": "3.12.3"
  }
 },
 "nbformat": 4,
 "nbformat_minor": 5
}
